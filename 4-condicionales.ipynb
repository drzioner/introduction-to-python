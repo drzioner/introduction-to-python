{
 "cells": [
  {
   "cell_type": "markdown",
   "metadata": {},
   "source": [
    "**¿Qué son las condicionales?**\n",
    "\n",
    "Las condicionales son estructuras de control que permiten ejecutar un bloque de código solo si se cumple una determinada condición. Python tiene dos tipos principales de condicionales: `if` y `if-else`.\n",
    "\n",
    "**Condicional `if`**\n",
    "\n",
    "La condicional `if` se utiliza para ejecutar un bloque de código si una condición es verdadera.\n",
    "\n",
    "**Sintaxis:**\n",
    "\n",
    "```python\n",
    "if condicion:\n",
    "  # Código a ejecutar si la condición es verdadera\n",
    "```\n",
    "\n",
    "**Ejemplo:**\n",
    "\n",
    "```python\n",
    "edad = 18\n",
    "\n",
    "if edad >= 18:\n",
    "  print(\"Eres mayor de edad\")\n",
    "```\n",
    "\n",
    "**Condicional `if-else`**\n",
    "\n",
    "La condicional `if-else` se utiliza para ejecutar un bloque de código si una condición es verdadera y otro bloque de código si la condición es falsa.\n",
    "\n",
    "**Sintaxis:**\n",
    "\n",
    "```python\n",
    "if condicion:\n",
    "  # Código a ejecutar si la condición es verdadera\n",
    "else:\n",
    "  # Código a ejecutar si la condición es falsa\n",
    "```\n",
    "\n",
    "**Ejemplo:**\n",
    "\n",
    "```python\n",
    "edad = 16\n",
    "\n",
    "if edad >= 18:\n",
    "  print(\"Eres mayor de edad\")\n",
    "else:\n",
    "  print(\"Eres menor de edad\")\n",
    "```\n",
    "\n",
    "**Condicional `elif`**\n",
    "\n",
    "La condicional `elif` se utiliza para comprobar múltiples condiciones. Se puede utilizar después de un `if` o un `elif` y antes de un `else`.\n",
    "\n",
    "**Sintaxis:**\n",
    "\n",
    "```python\n",
    "if condicion1:\n",
    "  # Código a ejecutar si la condición1 es verdadera\n",
    "elif condicion2:\n",
    "  # Código a ejecutar si la condición2 es verdadera\n",
    "else:\n",
    "  # Código a ejecutar si ninguna de las condiciones anteriores es verdadera\n",
    "```\n",
    "\n",
    "**Ejemplo:**\n",
    "\n",
    "```python\n",
    "edad = 12\n",
    "\n",
    "if edad < 12:\n",
    "  print(\"Eres niño\")\n",
    "elif edad < 18:\n",
    "  print(\"Eres adolescente\")\n",
    "else:\n",
    "  print(\"Eres adulto\")\n",
    "```\n",
    "\n",
    "**Recomendaciones**\n",
    "\n",
    "* Utiliza condicionales para tomar decisiones en tu código.\n",
    "* Puedes anidar condicionales dentro de otras condicionales.\n",
    "* Utiliza operadores lógicos (`and`, `or`, `not`) para combinar condiciones.\n",
    "* Usar demasiadas condicionales aumentan algo que se llama la complejidad algoritmica que hace que tus programas se ejecuten de forma mas lenta entre mayor en la complejidad.\n"
   ]
  },
  {
   "cell_type": "markdown",
   "metadata": {},
   "source": [
    "**Ejercicios**"
   ]
  },
  {
   "cell_type": "markdown",
   "metadata": {},
   "source": [
    "Comprobar si un número es positivo, negativo o cero"
   ]
  },
  {
   "cell_type": "code",
   "execution_count": null,
   "metadata": {},
   "outputs": [],
   "source": [
    "# numero = -5\n",
    "\n",
    "# if numero > 0:\n",
    "#   print(\"El número es positivo\")\n",
    "# elif numero < 0:\n",
    "#   print(\"El número es negativo\")\n",
    "# else:\n",
    "#   print(\"El número es cero\")"
   ]
  },
  {
   "cell_type": "markdown",
   "metadata": {},
   "source": [
    "Determinar el ganador de un juego"
   ]
  },
  {
   "cell_type": "code",
   "execution_count": null,
   "metadata": {},
   "outputs": [],
   "source": [
    "# puntaje_jugador1 = 100\n",
    "# puntaje_jugador2 = 80\n",
    "\n",
    "# if puntaje_jugador1 > puntaje_jugador2:\n",
    "#   print(\"¡Jugador 1 gana!\")\n",
    "# elif puntaje_jugador2 > puntaje_jugador1:\n",
    "#   print(\"¡Jugador 2 gana!\")\n",
    "# else:\n",
    "#   print(\"¡Empate!\")"
   ]
  },
  {
   "cell_type": "markdown",
   "metadata": {},
   "source": [
    "Calcular el precio de un billete de autobús con descuentos por edad y destino"
   ]
  },
  {
   "cell_type": "code",
   "execution_count": null,
   "metadata": {},
   "outputs": [],
   "source": [
    "# edad = 20\n",
    "# destino = \"Cartagena\"\n",
    "\n",
    "# precio_base = 50\n",
    "\n",
    "# if destino == \"Cartagena\":\n",
    "#   precio_base -= 20\n",
    "# elif destino == \"Barranquilla\":\n",
    "#   precio_base -= 10\n",
    "\n",
    "# if edad < 12:\n",
    "#   descuento = 0.5\n",
    "# elif edad < 30 or edad > 65:\n",
    "#   descuento = 0.2\n",
    "\n",
    "# precio_final = precio_base * (1 - descuento)\n",
    "\n",
    "# print(\"El precio del billete es:\", precio_final)"
   ]
  },
  {
   "cell_type": "markdown",
   "metadata": {},
   "source": [
    "Validar si un usuario y contraseña son correctos"
   ]
  },
  {
   "cell_type": "code",
   "execution_count": null,
   "metadata": {},
   "outputs": [],
   "source": [
    "# usuario_correcto = \"admin\"\n",
    "# contraseña_correcta = \"secreto\"\n",
    "\n",
    "# usuario_ingresado = input(\"Ingrese su nombre de usuario: \")\n",
    "# contraseña_ingresada = input(\"Ingrese su contraseña: \")\n",
    "\n",
    "# if usuario_ingresado == usuario_correcto and contraseña_ingresada == contraseña_correcta:\n",
    "#   print(\"Acceso concedido\")\n",
    "# else:\n",
    "#   print(\"Acceso denegado\")"
   ]
  }
 ],
 "metadata": {
  "kernelspec": {
   "display_name": ".venv",
   "language": "python",
   "name": "python3"
  },
  "language_info": {
   "codemirror_mode": {
    "name": "ipython",
    "version": 3
   },
   "file_extension": ".py",
   "mimetype": "text/x-python",
   "name": "python",
   "nbconvert_exporter": "python",
   "pygments_lexer": "ipython3",
   "version": "3.12.3"
  }
 },
 "nbformat": 4,
 "nbformat_minor": 2
}
