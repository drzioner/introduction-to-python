{
 "cells": [
  {
   "cell_type": "markdown",
   "metadata": {},
   "source": [
    "**¿Qué son los operadores?**\n",
    "\n",
    "Los operadores son símbolos especiales que realizan operaciones en uno o más valores. Python tiene diferentes tipos de operadores, como los aritméticos, de comparación, lógicos, de asignación, etc.\n",
    "\n",
    "**Tipos de operadores**\n",
    "\n",
    "1. **Aritméticos:** Realizan operaciones matemáticas básicas.\n",
    "\n",
    "   * `+`: Suma\n",
    "   * `-`: Resta\n",
    "   * `*`: Multiplicación\n",
    "   * `/`: División\n",
    "   * `//`: División entera (devuelve el cociente sin decimales)\n",
    "   * `%`: Módulo (devuelve el resto de la división)\n",
    "   * `**`: Potencia\n",
    "\n",
    "   **Ejemplo:**\n",
    "   ```python\n",
    "   x = 10\n",
    "   y = 3\n",
    "\n",
    "   print(x + y)  # Imprime 13\n",
    "   print(x - y)  # Imprime 7\n",
    "   print(x * y)  # Imprime 30\n",
    "   print(x / y)  # Imprime 3.333...\n",
    "   print(x // y)  # Imprime 3\n",
    "   print(x % y)  # Imprime 1\n",
    "   print(x ** y)  # Imprime 1000\n",
    "   ```\n",
    "\n",
    "2. **De comparación:** Comparan dos valores y devuelven un valor booleano (`True` o `False`).\n",
    "\n",
    "   * `==`: Igualdad\n",
    "   * `!=`: Desigualdad\n",
    "   * `>`: Mayor que\n",
    "   * `<`: Menor que\n",
    "   * `>=`: Mayor o igual que\n",
    "   * `<=`: Menor o igual que\n",
    "\n",
    "   **Ejemplo:**\n",
    "   ```python\n",
    "   x = 5\n",
    "   y = 10\n",
    "\n",
    "   print(x == y)  # Imprime False\n",
    "   print(x != y)  # Imprime True\n",
    "   print(x > y)  # Imprime False\n",
    "   print(x < y)  # Imprime True\n",
    "   print(x >= y)  # Imprime False\n",
    "   print(x <= y)  # Imprime True\n",
    "   ```\n",
    "\n",
    "3. **Lógicos:** Se utilizan para combinar o modificar condiciones.\n",
    "\n",
    "   * `and`: Devuelve `True` si ambas condiciones son verdaderas.\n",
    "   * `or`: Devuelve `True` si al menos una condición es verdadera.\n",
    "   * `not`: Invierte una condición (si es `True` la convierte en `False` y viceversa).\n",
    "\n",
    "   **Ejemplo:**\n",
    "   ```python\n",
    "   x = 5\n",
    "   y = 10\n",
    "\n",
    "   print(x > 0 and y < 20)  # Imprime True\n",
    "   print(x > 0 or y > 20)  # Imprime True\n",
    "   print(not x > 0)  # Imprime False\n",
    "   ```\n",
    "\n",
    "4. **De asignación:** Asignan un valor a una variable.\n",
    "\n",
    "   * `=`: Asignación simple\n",
    "   * `+=`: Suma y asignación\n",
    "   * `-=`: Resta y asignación\n",
    "   * `*=`: Multiplicación y asignación\n",
    "   * `/=`: División y asignación\n",
    "\n",
    "   **Ejemplo:**\n",
    "   ```python\n",
    "   x = 5  # Asignación simple\n",
    "   x += 1  # Suma y asignación (x ahora vale 6)\n",
    "   x -= 2  # Resta y asignación (x ahora vale 4)\n",
    "   x *= 3  # Multiplicación y asignación (x ahora vale 12)\n",
    "   x /= 4  # División y asignación (x ahora vale 3.0)\n",
    "   ```"
   ]
  },
  {
   "cell_type": "markdown",
   "metadata": {},
   "source": [
    "\n",
    "\n",
    "\n",
    "\n",
    "\n",
    "\n",
    "\n",
    "\n",
    "\n",
    "\n",
    "\n",
    "**Ejercicios**"
   ]
  },
  {
   "cell_type": "markdown",
   "metadata": {
    "vscode": {
     "languageId": "plaintext"
    }
   },
   "source": [
    "Calcular el área de un triángulo"
   ]
  },
  {
   "cell_type": "markdown",
   "metadata": {
    "vscode": {
     "languageId": "latex"
    }
   },
   "source": [
    "$$ A = \\frac{base \\times altura}{2} $$"
   ]
  },
  {
   "cell_type": "code",
   "execution_count": null,
   "metadata": {},
   "outputs": [],
   "source": [
    "# base = 10\n",
    "# altura = 5\n",
    "# area = (base * altura) / 2\n",
    "# print(\"El área del triángulo es:\", area)"
   ]
  },
  {
   "cell_type": "markdown",
   "metadata": {},
   "source": [
    "Comprobar si un número es par o impar"
   ]
  },
  {
   "cell_type": "code",
   "execution_count": 2,
   "metadata": {},
   "outputs": [
    {
     "name": "stdout",
     "output_type": "stream",
     "text": [
      "7 es impar\n"
     ]
    }
   ],
   "source": [
    "numero = 7\n",
    "if numero % 2 == 0:\n",
    "  print(numero, \"es par\")\n",
    "else:\n",
    "  print(numero, \"es impar\")"
   ]
  },
  {
   "cell_type": "markdown",
   "metadata": {},
   "source": [
    "Calcular el índice de masa corporal (IMC)"
   ]
  },
  {
   "cell_type": "markdown",
   "metadata": {},
   "source": [
    "$$ IMC = \\frac{peso (kg)}{altura (m)^2} $$"
   ]
  },
  {
   "cell_type": "code",
   "execution_count": null,
   "metadata": {},
   "outputs": [],
   "source": [
    "# peso = 70  # en kilogramos\n",
    "# altura = 1.75  # en metros\n",
    "\n",
    "# imc = peso / (altura ** 2)\n",
    "\n",
    "# print(\"Tu IMC es:\", imc)\n",
    "\n",
    "# if imc < 18.5:\n",
    "#   print(\"Estás por debajo de tu peso ideal.\")\n",
    "# elif imc < 25:\n",
    "#   print(\"Estás en tu peso ideal.\")\n",
    "# elif imc < 30:\n",
    "#   print(\"Tienes sobrepeso.\")\n",
    "# else:\n",
    "#   print(\"Tienes obesidad.\")"
   ]
  },
  {
   "cell_type": "markdown",
   "metadata": {},
   "source": [
    "Calcular el área y el perímetro de un círculo"
   ]
  },
  {
   "cell_type": "markdown",
   "metadata": {},
   "source": [
    "Área de un circulo:\n",
    "$$ A = \\pi \\times radio^2 $$\n",
    "\n",
    "Perímetro de un circulo:\n",
    "$$ P = 2 \\times \\pi \\times radio $$"
   ]
  },
  {
   "cell_type": "code",
   "execution_count": null,
   "metadata": {},
   "outputs": [],
   "source": [
    "# import math\n",
    "\n",
    "# radio = 5  # en metros\n",
    "\n",
    "# area = math.pi * radio**2\n",
    "# perimetro = 2 * math.pi * radio\n",
    "\n",
    "# print(\"El área del círculo es:\", area)\n",
    "# print(\"El perímetro del círculo es:\", perimetro)"
   ]
  },
  {
   "cell_type": "markdown",
   "metadata": {},
   "source": [
    "Convertir grados Celsius a Fahrenheit"
   ]
  },
  {
   "cell_type": "markdown",
   "metadata": {},
   "source": [
    "$$ F = \\frac{9}{5}C + 32 $$"
   ]
  },
  {
   "cell_type": "code",
   "execution_count": null,
   "metadata": {},
   "outputs": [],
   "source": [
    "# celsius = 25\n",
    "\n",
    "# fahrenheit = (celsius * 9/5) + 32\n",
    "\n",
    "# print(celsius, \"grados Celsius son\", fahrenheit, \"grados Fahrenheit\")"
   ]
  },
  {
   "cell_type": "markdown",
   "metadata": {},
   "source": [
    "Determinar si un año es bisiesto"
   ]
  },
  {
   "cell_type": "markdown",
   "metadata": {},
   "source": [
    "> No hay una fórmula matemática única para determinar si un año es bisiesto. Sin embargo, se puede usar la siguiente regla:\n",
    "\n",
    "> Un año es bisiesto si es divisible por 4, a menos que sea divisible por 100. Sin embargo, si un año es divisible por 400, entonces  también es bisiesto. "
   ]
  },
  {
   "cell_type": "code",
   "execution_count": null,
   "metadata": {},
   "outputs": [],
   "source": [
    "# año = 2025\n",
    "\n",
    "# if (año % 4 == 0 and año % 100 != 0) or año % 400 == 0:\n",
    "#   print(año, \"es un año bisiesto\")\n",
    "# else:\n",
    "#   print(año, \"no es un año bisiesto\")"
   ]
  }
 ],
 "metadata": {
  "kernelspec": {
   "display_name": ".venv",
   "language": "python",
   "name": "python3"
  },
  "language_info": {
   "codemirror_mode": {
    "name": "ipython",
    "version": 3
   },
   "file_extension": ".py",
   "mimetype": "text/x-python",
   "name": "python",
   "nbconvert_exporter": "python",
   "pygments_lexer": "ipython3",
   "version": "3.12.3"
  }
 },
 "nbformat": 4,
 "nbformat_minor": 2
}
