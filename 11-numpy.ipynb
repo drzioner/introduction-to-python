{
 "cells": [
  {
   "cell_type": "markdown",
   "metadata": {},
   "source": [
    "**Introducción a NumPy**\n",
    "\n",
    "NumPy (Numerical Python) es una biblioteca fundamental para la computación científica en Python.  Proporciona un objeto de matriz multidimensional de alto rendimiento y herramientas para trabajar con estas matrices. NumPy facilita el uso de Python con operaciones matemáticas complejas, proporcionando estructuras de datos y funciones eficientes para trabajar con matrices y arreglos. En esencia, NumPy es la base de casi todo el ecosistema de ciencia de datos en Python.\n",
    "\n",
    "**Puntos Clave de NumPy**\n",
    "\n",
    "- **ndarray**: El corazón de NumPy es el objeto `ndarray` (array n-dimensional), una estructura de datos eficiente que permite almacenar y manipular grandes conjuntos de datos numéricos. Los `ndarray` son homogéneos, lo que significa que todos los elementos deben ser del mismo tipo de datos, lo que permite operaciones vectoriales rápidas. Esta característica, junto con los algoritmos optimizados de NumPy, proporciona un rendimiento significativamente mayor en comparación con las listas estándar de Python, especialmente cuando se trabaja con grandes conjuntos de datos.\n",
    "- **Funcionalidad matemática**: NumPy ofrece una amplia gama de funciones matemáticas para realizar operaciones elemento a elemento en arrays, incluyendo operaciones aritméticas, trigonométricas, lógicas y muchas más. Estas funciones están altamente optimizadas para el rendimiento, lo que hace que NumPy sea mucho más rápido que usar bucles Python estándar para realizar cálculos numéricos.\n",
    "- **Broadcasting**: NumPy permite realizar operaciones entre arrays de diferentes formas, mediante un mecanismo llamado \"broadcasting\". Esto simplifica el código y lo hace más legible, al evitar la necesidad de bucles explícitos para alinear las dimensiones de los arrays.\n",
    "- **Integración con otras bibliotecas**: NumPy se integra perfectamente con otras bibliotecas del ecosistema científico de Python, como SciPy (para computación científica), Pandas (para análisis de datos) y Matplotlib (para visualización). Estas bibliotecas a menudo utilizan NumPy como base para sus estructuras de datos y algoritmos.\n",
    "\n",
    "**Usos de NumPy**\n",
    "\n",
    "NumPy se utiliza en una amplia variedad de aplicaciones, incluyendo:\n",
    "\n",
    "- **Análisis de datos**: NumPy proporciona las herramientas para limpiar, transformar y analizar grandes conjuntos de datos. Sus capacidades de manipulación de arrays son esenciales para tareas como la selección de datos, la agregación y el cálculo de estadísticas descriptivas. Por ejemplo, se puede usar NumPy para calcular la media, la mediana y la desviación estándar de un conjunto de datos, o para filtrar datos basados en ciertos criterios.\n",
    "- **Aprendizaje automático**: NumPy es la base de muchas bibliotecas de aprendizaje automático, como scikit-learn y TensorFlow. Los arrays de NumPy se utilizan para representar datos de entrenamiento, pesos de modelos y otras estructuras de datos esenciales en algoritmos de aprendizaje automático. Por ejemplo, un conjunto de imágenes para entrenar un modelo de reconocimiento de imágenes se puede representar como un array de NumPy donde cada elemento es una matriz que representa una imagen.\n",
    "- **Procesamiento de imágenes**: NumPy se utiliza para representar imágenes como arrays multidimensionales, donde cada elemento del array representa un píxel. Esto permite realizar operaciones de procesamiento de imágenes como el filtrado, la segmentación y la extracción de características. Por ejemplo, una imagen en escala de grises se puede representar como un array bidimensional de NumPy, donde cada elemento del array corresponde a un píxel y el valor del elemento representa la intensidad del píxel.\n",
    "- **Álgebra lineal**: NumPy proporciona potentes herramientas para realizar operaciones de álgebra lineal, como la multiplicación de matrices, el cálculo de determinantes, la resolución de sistemas de ecuaciones lineales y la descomposición de matrices. Estas capacidades son esenciales en una variedad de aplicaciones, como el análisis de datos, el aprendizaje automático y la computación gráfica.\n",
    "- **Simulación científica**: NumPy se utiliza en simulaciones científicas para modelar fenómenos físicos, como el movimiento de partículas, la dinámica de fluidos y la propagación de ondas. Su capacidad para realizar cálculos numéricos eficientes es crucial para estas aplicaciones. Además, NumPy ofrece un amplio conjunto de funciones para generar números aleatorios con diferentes distribuciones, lo que es fundamental para realizar simulaciones y experimentos numéricos.\n",
    "\n",
    "**Limitaciones de NumPy**\n",
    "\n",
    "Aunque NumPy es una herramienta poderosa, tiene algunas limitaciones:\n",
    "\n",
    "- **No está diseñado para datos simbólicos**: NumPy se centra en la computación numérica y no es adecuado para trabajar con datos simbólicos o expresiones algebraicas. Para este tipo de tareas, se recomienda utilizar bibliotecas como `SymPy`.\n",
    "- **No es un lenguaje de programación completo**: NumPy es una biblioteca, no un lenguaje de programación completo. No ofrece características como estructuras de control de flujo complejas o la definición de funciones personalizadas. Para estas tareas, se utiliza Python en conjunto con NumPy.\n",
    "- **Puede ser menos eficiente para datos no numéricos**: Aunque NumPy es altamente eficiente para datos numéricos, puede ser menos eficiente para trabajar con datos no numéricos, como cadenas de texto. En estos casos, otras bibliotecas como Pandas pueden ser más adecuadas."
   ]
  },
  {
   "cell_type": "markdown",
   "metadata": {},
   "source": [
    "Ejemplo 1: Creación de Arrays y Operaciones Básicas"
   ]
  },
  {
   "cell_type": "code",
   "execution_count": null,
   "metadata": {},
   "outputs": [],
   "source": [
    "!pip install numpy"
   ]
  },
  {
   "cell_type": "code",
   "execution_count": 1,
   "metadata": {},
   "outputs": [
    {
     "name": "stdout",
     "output_type": "stream",
     "text": [
      "Array a: [1 2 3 4 5]\n",
      "Array b (0 a 9): [0 1 2 3 4 5 6 7 8 9]\n",
      "Array c (linspace): [0.   0.25 0.5  0.75 1.  ]\n"
     ]
    }
   ],
   "source": [
    "import numpy as np\n",
    "\n",
    "# Crear un array a partir de una lista de Python\n",
    "a = np.array([1, 2, 3, 4, 5])\n",
    "print(\"Array a:\", a)\n",
    "\n",
    "# Crear un array con números en un rango (0 a 9)\n",
    "b = np.arange(10)\n",
    "print(\"Array b (0 a 9):\", b)\n",
    "\n",
    "# Crear un array con números equidistantes entre 0 y 1 (5 valores)\n",
    "c = np.linspace(0, 1, 5)\n",
    "print(\"Array c (linspace):\", c)\n"
   ]
  },
  {
   "cell_type": "markdown",
   "metadata": {},
   "source": [
    "`np.array` convierte listas en arrays de NumPy.\n",
    "\n",
    "`np.arange` genera arrays con secuencias de números.\n",
    "\n",
    "`np.linspace` crea arrays con valores equidistantes."
   ]
  },
  {
   "cell_type": "markdown",
   "metadata": {},
   "source": [
    "Ejemplo 2: Indexado y Slicing"
   ]
  },
  {
   "cell_type": "code",
   "execution_count": null,
   "metadata": {},
   "outputs": [],
   "source": [
    "import numpy as np\n",
    "\n",
    "# Crear un array de 10 elementos (0 a 9)\n",
    "arr = np.arange(10)\n",
    "print(\"Array completo:\", arr)\n",
    "\n",
    "# Extraer elementos desde el índice 2 hasta el 6 (el 7 no se incluye)\n",
    "sub_arr = arr[2:7]\n",
    "print(\"Sub-array (índices 2 a 6):\", sub_arr)\n",
    "\n",
    "# Acceder al primer y último elemento\n",
    "print(\"Primer elemento:\", arr[0])\n",
    "print(\"Último elemento:\", arr[-1])"
   ]
  },
  {
   "cell_type": "markdown",
   "metadata": {},
   "source": [
    "El indexado con corchetes permite seleccionar elementos.\n",
    "\n",
    "Los índices negativos acceden a elementos desde el final."
   ]
  },
  {
   "cell_type": "markdown",
   "metadata": {},
   "source": [
    "Ejemplo 3: Operaciones Aritméticas Vectorizadas"
   ]
  },
  {
   "cell_type": "code",
   "execution_count": 4,
   "metadata": {},
   "outputs": [
    {
     "name": "stdout",
     "output_type": "stream",
     "text": [
      "Suma: [11 22 33 44 55]\n",
      "Producto: [ 10  40  90 160 250]\n"
     ]
    }
   ],
   "source": [
    "import numpy as np\n",
    "\n",
    "# Definir dos arrays de igual tamaño\n",
    "x = np.array([1, 2, 3, 4, 5])\n",
    "y = np.array([10, 20, 30, 40, 50])\n",
    "\n",
    "# Suma y multiplicación elemento a elemento\n",
    "suma = x + y\n",
    "producto = x * y\n",
    "\n",
    "print(\"Suma:\", suma)\n",
    "print(\"Producto:\", producto)"
   ]
  },
  {
   "cell_type": "markdown",
   "metadata": {},
   "source": [
    "Las operaciones se aplican de forma vectorizada, es decir, se realizan elemento a elemento sin necesidad de bucles."
   ]
  },
  {
   "cell_type": "markdown",
   "metadata": {},
   "source": [
    "Ejemplo 4: Broadcasting"
   ]
  },
  {
   "cell_type": "code",
   "execution_count": 5,
   "metadata": {},
   "outputs": [
    {
     "name": "stdout",
     "output_type": "stream",
     "text": [
      "Resultado del broadcasting:\n",
      " [[11 22 33]\n",
      " [14 25 36]]\n"
     ]
    }
   ],
   "source": [
    "import numpy as np\n",
    "\n",
    "# Crear un array 2D (matriz)\n",
    "A = np.array([[1, 2, 3],\n",
    "              [4, 5, 6]])\n",
    "              \n",
    "# Crear un array 1D\n",
    "b = np.array([10, 20, 30])\n",
    "\n",
    "# Sumar b a cada fila de A (b se \"difunde\" para adaptarse a la forma de A)\n",
    "resultado = A + b\n",
    "print(\"Resultado del broadcasting:\\n\", resultado)"
   ]
  },
  {
   "cell_type": "markdown",
   "metadata": {},
   "source": [
    "Broadcasting permite realizar operaciones entre arrays de diferentes dimensiones siempre que sean compatibles."
   ]
  },
  {
   "cell_type": "markdown",
   "metadata": {},
   "source": [
    "Ejemplo 5: Operaciones con Matrices"
   ]
  },
  {
   "cell_type": "code",
   "execution_count": null,
   "metadata": {},
   "outputs": [],
   "source": [
    "import numpy as np\n",
    "\n",
    "# Definir dos matrices\n",
    "A = np.array([[1, 2],\n",
    "              [3, 4]])\n",
    "B = np.array([[5, 6],\n",
    "              [7, 8]])\n",
    "\n",
    "# Multiplicación de matrices\n",
    "producto = np.dot(A, B)  # o también A @ B\n",
    "print(\"Producto de matrices:\\n\", producto)\n",
    "\n",
    "# Transpuesta de la matriz A\n",
    "print(\"Transpuesta de A:\\n\", A.T)\n",
    "\n",
    "# Cálculo del determinante de A\n",
    "determinante = np.linalg.det(A)\n",
    "print(\"Determinante de A:\", determinante)"
   ]
  },
  {
   "cell_type": "markdown",
   "metadata": {},
   "source": [
    "`np.dot` o el operador`@` se usan para multiplicación matricial.\n",
    "\n",
    "`A.T` devuelve la transpuesta de la matriz.\n",
    "\n",
    "`np.linalg.det` calcula el determinante."
   ]
  },
  {
   "cell_type": "markdown",
   "metadata": {},
   "source": [
    "Ejemplo 6: Estadísticas y Manipulación de Datos"
   ]
  },
  {
   "cell_type": "code",
   "execution_count": 6,
   "metadata": {},
   "outputs": [
    {
     "name": "stdout",
     "output_type": "stream",
     "text": [
      "Media: 0.469188480601939\n",
      "Mediana: 0.4609679860872097\n",
      "Desviación estándar: 0.28387576249237123\n"
     ]
    }
   ],
   "source": [
    "import numpy as np\n",
    "\n",
    "# Generar un array con 100 números aleatorios entre 0 y 1\n",
    "datos = np.random.rand(100)\n",
    "\n",
    "# Calcular algunas estadísticas\n",
    "media = np.mean(datos)\n",
    "mediana = np.median(datos)\n",
    "desviacion = np.std(datos)\n",
    "\n",
    "print(\"Media:\", media)\n",
    "print(\"Mediana:\", mediana)\n",
    "print(\"Desviación estándar:\", desviacion)"
   ]
  },
  {
   "cell_type": "markdown",
   "metadata": {},
   "source": [
    "Funciones estadísticas como `np.mean`, `np.median` y `np.std` facilitan el análisis de datos."
   ]
  },
  {
   "cell_type": "markdown",
   "metadata": {},
   "source": [
    "**Ejercicio 1: Análisis de una Matriz de Datos**\n",
    "\n",
    "**Planteamiento:**\n",
    "\n",
    "Genera una matriz de 5×5 con números aleatorios enteros entre 1 y 50. Realiza las siguientes operaciones:\n",
    "\n",
    "- Calcula la suma de cada fila y de cada columna.\n",
    "- Encuentra el valor máximo de cada fila.\n",
    "- Calcula la suma de la diagonal principal.\n",
    "- Transpone la matriz y luego multiplica la matriz original por su transpuesta.\n",
    "\n",
    "**Pistas:**\n",
    "\n",
    "- Usa `np.random.randint` para generar la matriz.\n",
    "- Para sumar filas y columnas, utiliza `np.sum` especificando el eje correspondiente.\n",
    "- La función `np.diag` te ayudará a extraer la diagonal principal."
   ]
  },
  {
   "cell_type": "code",
   "execution_count": 7,
   "metadata": {},
   "outputs": [],
   "source": [
    "import numpy as np\n",
    "\n",
    "def solucion_matriz():\n",
    "    # Generar matriz 5x5 con números aleatorios entre 1 y 50\n",
    "    matriz = np.random.randint(1, 51, size=(5, 5))\n",
    "    print(\"Matriz original:\\n\", matriz)\n",
    "\n",
    "    # Suma de filas y columnas\n",
    "    suma_filas = np.sum(matriz, axis=1)\n",
    "    suma_columnas = np.sum(matriz, axis=0)\n",
    "    print(\"\\nSuma de filas:\", suma_filas)\n",
    "    print(\"\\nSuma de columnas:\", suma_columnas)\n",
    "\n",
    "    # Valor máximo de cada fila\n",
    "    max_filas = np.max(matriz, axis=1)\n",
    "    print(\"\\nValor máximo de cada fila:\", max_filas)\n",
    "\n",
    "    # Suma de la diagonal principal\n",
    "    diagonal = np.diag(matriz)\n",
    "    suma_diagonal = np.sum(diagonal)\n",
    "    print(\"\\nDiagonal principal:\", diagonal)\n",
    "    print(\"\\nSuma de la diagonal principal:\", suma_diagonal)\n",
    "\n",
    "    # Transposición y multiplicación\n",
    "    matriz_transpuesta = matriz.T\n",
    "    matriz_producto = np.dot(matriz, matriz_transpuesta)\n",
    "    print(\"\\nMatriz transpuesta:\\n\", matriz_transpuesta)\n",
    "    print(\"\\nProducto de la matriz original por su transpuesta:\\n\", matriz_producto)"
   ]
  },
  {
   "cell_type": "code",
   "execution_count": 8,
   "metadata": {},
   "outputs": [
    {
     "name": "stdout",
     "output_type": "stream",
     "text": [
      "Matriz original:\n",
      " [[30 35 14 40  9]\n",
      " [38 26 20 38 24]\n",
      " [ 6 12 17 45 43]\n",
      " [37 15 21 29 33]\n",
      " [15 42 20 31 27]]\n",
      "\n",
      "Suma de filas: [128 146 123 135 135]\n",
      "\n",
      "Suma de columnas: [126 130  92 183 136]\n",
      "\n",
      "Valor máximo de cada fila: [40 38 45 37 42]\n",
      "\n",
      "Diagonal principal: [30 26 17 29 27]\n",
      "\n",
      "Suma de la diagonal principal: 129\n",
      "\n",
      "Matriz transpuesta:\n",
      " [[30 38  6 37 15]\n",
      " [35 26 12 15 42]\n",
      " [14 20 17 21 20]\n",
      " [40 38 45 29 31]\n",
      " [ 9 24 43 33 27]]\n",
      "\n",
      "Producto de la matriz original por su transpuesta:\n",
      " [[4002 4066 3025 3386 3683]\n",
      " [4066 4540 3622 4110 3888]\n",
      " [3025 3622 4343 3483 3490]\n",
      " [3386 4110 3483 3965 3395]\n",
      " [3683 3888 3490 3395 4079]]\n"
     ]
    }
   ],
   "source": [
    "solucion_matriz()"
   ]
  },
  {
   "cell_type": "markdown",
   "metadata": {},
   "source": [
    "**Ejercicio 2: Estadísticas y Normalización de Datos**\n",
    "\n",
    "**Planteamiento:**\n",
    "\n",
    "Genera un array 2D de dimensión 100×4 en el que cada columna representa una variable diferente y cada fila una observación. Los valores deben ser números aleatorios flotantes entre 0 y 100. Realiza las siguientes operaciones:\n",
    "\n",
    "- Calcula la media, mediana y desviación estándar de cada columna.\n",
    "- Normaliza cada columna (resta la media y divide por la desviación estándar).\n",
    "- Encuentra la fila (observación) que tenga el valor máximo en la segunda columna (índice 1).\n",
    "\n",
    "**Pistas:**\n",
    "\n",
    "- Usa `np.random.uniform(0, 100, (100, 4))` para generar el array.\n",
    "- Aplica `np.mean`, `np.median` y `np.std` con el parámetro axis=0 para operar por columnas.\n",
    "- Para la normalización, puedes utilizar operaciones vectorizadas."
   ]
  },
  {
   "cell_type": "code",
   "execution_count": 13,
   "metadata": {},
   "outputs": [],
   "source": [
    "import numpy as np\n",
    "\n",
    "def generar_matriz_2D():\n",
    "    # Generar array 2D de 100x4 con números aleatorios entre 0 y 100\n",
    "    array_2d = np.random.uniform(0, 100, (100, 4))\n",
    "    print(\"Array 2D original:\\n\", array_2d)\n",
    "\n",
    "    # Estadísticas de cada columna\n",
    "    media_columnas = np.mean(array_2d, axis=0)\n",
    "    mediana_columnas = np.median(array_2d, axis=0)\n",
    "    desviacion_estandar_columnas = np.std(array_2d, axis=0)\n",
    "    print(\"\\nMedia de cada columna:\", media_columnas)\n",
    "    print(\"\\nMediana de cada columna:\", mediana_columnas)\n",
    "    print(\"\\nDesviación estándar de cada columna:\", desviacion_estandar_columnas)\n",
    "\n",
    "    # Normalizar cada columna\n",
    "    array_normalizado = (array_2d - media_columnas) / desviacion_estandar_columnas\n",
    "    print(\"\\nArray 2D normalizado:\\n\", array_normalizado)\n",
    "\n",
    "    # Encontrar fila con valor máximo en la segunda columna\n",
    "    fila_max_segunda_columna = np.argmax(array_2d[:, 1])\n",
    "    print(\"\\nFila con valor máximo en la segunda columna:\", fila_max_segunda_columna)"
   ]
  },
  {
   "cell_type": "code",
   "execution_count": null,
   "metadata": {},
   "outputs": [],
   "source": [
    "generar_matriz_2D()"
   ]
  }
 ],
 "metadata": {
  "kernelspec": {
   "display_name": ".venv",
   "language": "python",
   "name": "python3"
  },
  "language_info": {
   "codemirror_mode": {
    "name": "ipython",
    "version": 3
   },
   "file_extension": ".py",
   "mimetype": "text/x-python",
   "name": "python",
   "nbconvert_exporter": "python",
   "pygments_lexer": "ipython3",
   "version": "3.12.3"
  }
 },
 "nbformat": 4,
 "nbformat_minor": 2
}
