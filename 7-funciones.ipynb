{
 "cells": [
  {
   "cell_type": "markdown",
   "metadata": {},
   "source": [
    "### Funciones"
   ]
  },
  {
   "cell_type": "markdown",
   "metadata": {},
   "source": [
    "**¿Qué son funciones?**\n",
    "\n",
    "Una función es un bloque de código reutilizable que realiza una tarea específica.\n",
    "\n",
    "Las funciones permiten organizar el código en unidades lógicas más pequeñas, lo que facilita la lectura, comprensión y mantenimiento del código.\n",
    "\n",
    "**¿Por qué son importantes?**\n",
    "\n",
    "Las funciones son importantes por varias razones:\n",
    "\n",
    "* **Reusabilidad:** Permiten escribir un bloque de código una vez y utilizarlo varias veces en diferentes partes del programa, lo que ahorra tiempo y esfuerzo.\n",
    "* **Modularidad:** Dividen el programa en partes más pequeñas y manejables, lo que facilita la comprensión y el trabajo en equipo.\n",
    "* **Abstracción:** Ocultan los detalles de implementación de una tarea, lo que permite al programador centrarse en la lógica de alto nivel del programa.\n",
    "* **Mantenibilidad:** Facilitan la actualización y modificación del código, ya que los cambios se realizan en un solo lugar (la función)."
   ]
  },
  {
   "cell_type": "markdown",
   "metadata": {},
   "source": [
    "**Sintaxis**\n",
    "\n",
    "\n",
    "*   La sintaxis para definir una función en Python se realiza usando la palabra clave `def`.\n",
    "\n",
    "*   Componentes clave:\n",
    "    *   `def`:  Palabra clave que indica el inicio de la definición de una función.\n",
    "    *   `nombre_de_la_funcion`:  Nombre que eliges para tu función (sigue las convenciones de nombres en Python, como usar snake_case).\n",
    "    *   `()`: Paréntesis que siguen al nombre. Aquí se definen los parámetros (entradas) de la función. Si no tiene parámetros, se dejan vacíos.\n",
    "    *   `:`: Dos puntos que marcan el final de la línea de definición y el inicio del bloque de código de la función.\n",
    "    *   `cuerpo de la función`: Bloque de código indentado que se ejecuta cuando se llama la función.\n",
    "    *   `return` (opcional):  Palabra clave para especificar el valor que la función devuelve como resultado. Si no se usa `return`, la función devuelve `None` por defecto."
   ]
  },
  {
   "cell_type": "markdown",
   "metadata": {},
   "source": [
    "**Definicion**"
   ]
  },
  {
   "cell_type": "code",
   "execution_count": 6,
   "metadata": {},
   "outputs": [],
   "source": [
    "def saludar():\n",
    "    \"\"\"Esta función imprime un saludo genérico.\"\"\" # Docstring\n",
    "    print(\"¡Hola! ¡Bienvenido a la mini clase de funciones!\")"
   ]
  },
  {
   "cell_type": "markdown",
   "metadata": {},
   "source": [
    "**Invocacion**"
   ]
  },
  {
   "cell_type": "code",
   "execution_count": 5,
   "metadata": {},
   "outputs": [],
   "source": [
    "saludar()"
   ]
  },
  {
   "cell_type": "markdown",
   "metadata": {},
   "source": [
    "**Parámetros:**  \n",
    "\n",
    "Variables listadas dentro de los paréntesis en la *definición* de la función. Son como \"placeholders\" para los valores que la función espera recibir."
   ]
  },
  {
   "cell_type": "code",
   "execution_count": null,
   "metadata": {},
   "outputs": [],
   "source": [
    "def saludar_persona(nombre): # 'nombre' es un parámetro\n",
    "    \"\"\"Saluda a una persona con un nombre específico.\"\"\"\n",
    "    print(f\"¡Hola, {nombre}! ¡Bienvenido!\")"
   ]
  },
  {
   "cell_type": "markdown",
   "metadata": {},
   "source": [
    "**Argumentos:**\n",
    "\n",
    "Los valores reales que se pasan a la función cuando se la *llama*. Estos valores se asignan a los parámetros correspondientes."
   ]
  },
  {
   "cell_type": "code",
   "execution_count": null,
   "metadata": {},
   "outputs": [],
   "source": [
    "saludar_persona(\"Carlos\") # \"Carlos\" es un argumento posicional"
   ]
  },
  {
   "cell_type": "code",
   "execution_count": null,
   "metadata": {},
   "outputs": [],
   "source": [
    "saludar_persona(nombre=\"Sofía\") # nombre=\"Sofía\" es un argumento por nombre"
   ]
  },
  {
   "cell_type": "code",
   "execution_count": 7,
   "metadata": {},
   "outputs": [],
   "source": [
    "def presentar_persona(nombre, profesion=\"Estudiante\"): # 'profesion' tiene un valor por defecto\n",
    "    \"\"\"\n",
    "    Presenta a una persona con nombre y profesión.\n",
    "    Si no se especifica la profesión, se asume que es \"Estudiante\".\n",
    "\n",
    "    :param nombre (str): Nombre de la persona - Requerido.\n",
    "    :param profesion (str): Profesión de la persona - Opcional.\n",
    "    :return: None\n",
    "    \"\"\"\n",
    "    print(f\"Hola, soy {nombre} y soy {profesion}.\")"
   ]
  },
  {
   "cell_type": "code",
   "execution_count": 13,
   "metadata": {},
   "outputs": [
    {
     "name": "stdout",
     "output_type": "stream",
     "text": [
      "Hola, soy 120 y soy Ingeniero.\n"
     ]
    }
   ],
   "source": [
    "presentar_persona(120, \"Ingeniero\") # Se especifica la profesión"
   ]
  },
  {
   "cell_type": "code",
   "execution_count": null,
   "metadata": {},
   "outputs": [],
   "source": [
    "presentar_persona(\"Laura\") # No se proporciona profesión"
   ]
  },
  {
   "cell_type": "code",
   "execution_count": 9,
   "metadata": {},
   "outputs": [],
   "source": [
    "def sumar_enteros(numero1: int, numero2: int) -> int:\n",
    "    \"\"\"\n",
    "    Suma dos números enteros y retorna la suma.\n",
    "\n",
    "    :param numero1: El primer número entero.\n",
    "    :param numero2: El segundo número entero.\n",
    "    :return: La suma de numero1 y numero2, que también es un entero.\n",
    "    \"\"\"\n",
    "    return numero1 + numero2"
   ]
  },
  {
   "cell_type": "code",
   "execution_count": 10,
   "metadata": {},
   "outputs": [
    {
     "name": "stdout",
     "output_type": "stream",
     "text": [
      "La suma de 5 y 3 es: 8\n"
     ]
    }
   ],
   "source": [
    "resultado1 = sumar_enteros(5, 3)\n",
    "print(f\"La suma de 5 y 3 es: {resultado1}\")"
   ]
  },
  {
   "cell_type": "code",
   "execution_count": 11,
   "metadata": {},
   "outputs": [
    {
     "name": "stdout",
     "output_type": "stream",
     "text": [
      "La suma de 10 y -2 es: 8\n"
     ]
    }
   ],
   "source": [
    "resultado2 = sumar_enteros(10, -2)\n",
    "print(f\"La suma de 10 y -2 es: {resultado2}\")"
   ]
  },
  {
   "cell_type": "code",
   "execution_count": 12,
   "metadata": {},
   "outputs": [
    {
     "ename": "TypeError",
     "evalue": "can only concatenate str (not \"int\") to str",
     "output_type": "error",
     "traceback": [
      "\u001b[0;31m---------------------------------------------------------------------------\u001b[0m",
      "\u001b[0;31mTypeError\u001b[0m                                 Traceback (most recent call last)",
      "Cell \u001b[0;32mIn[12], line 1\u001b[0m\n\u001b[0;32m----> 1\u001b[0m resultado_incorrecto \u001b[38;5;241m=\u001b[39m \u001b[43msumar_enteros\u001b[49m\u001b[43m(\u001b[49m\u001b[38;5;124;43m\"\u001b[39;49m\u001b[38;5;124;43mHola\u001b[39;49m\u001b[38;5;124;43m\"\u001b[39;49m\u001b[43m,\u001b[49m\u001b[43m \u001b[49m\u001b[38;5;241;43m5\u001b[39;49m\u001b[43m)\u001b[49m\n\u001b[1;32m      2\u001b[0m \u001b[38;5;28mprint\u001b[39m(\u001b[38;5;124mf\u001b[39m\u001b[38;5;124m\"\u001b[39m\u001b[38;5;124mResultado inesperado (cadena + entero): \u001b[39m\u001b[38;5;132;01m{\u001b[39;00mresultado_incorrecto\u001b[38;5;132;01m}\u001b[39;00m\u001b[38;5;124m\"\u001b[39m)\n",
      "Cell \u001b[0;32mIn[9], line 9\u001b[0m, in \u001b[0;36msumar_enteros\u001b[0;34m(numero1, numero2)\u001b[0m\n\u001b[1;32m      1\u001b[0m \u001b[38;5;28;01mdef\u001b[39;00m\u001b[38;5;250m \u001b[39m\u001b[38;5;21msumar_enteros\u001b[39m(numero1: \u001b[38;5;28mint\u001b[39m, numero2: \u001b[38;5;28mint\u001b[39m) \u001b[38;5;241m-\u001b[39m\u001b[38;5;241m>\u001b[39m \u001b[38;5;28mint\u001b[39m:\n\u001b[1;32m      2\u001b[0m \u001b[38;5;250m    \u001b[39m\u001b[38;5;124;03m\"\"\"\u001b[39;00m\n\u001b[1;32m      3\u001b[0m \u001b[38;5;124;03m    Suma dos números enteros y retorna la suma.\u001b[39;00m\n\u001b[1;32m      4\u001b[0m \n\u001b[0;32m   (...)\u001b[0m\n\u001b[1;32m      7\u001b[0m \u001b[38;5;124;03m    :return: La suma de numero1 y numero2, que también es un entero.\u001b[39;00m\n\u001b[1;32m      8\u001b[0m \u001b[38;5;124;03m    \"\"\"\u001b[39;00m\n\u001b[0;32m----> 9\u001b[0m     \u001b[38;5;28;01mreturn\u001b[39;00m \u001b[43mnumero1\u001b[49m\u001b[43m \u001b[49m\u001b[38;5;241;43m+\u001b[39;49m\u001b[43m \u001b[49m\u001b[43mnumero2\u001b[49m\n",
      "\u001b[0;31mTypeError\u001b[0m: can only concatenate str (not \"int\") to str"
     ]
    }
   ],
   "source": [
    "resultado_incorrecto = sumar_enteros(\"Hola\", 5)\n",
    "print(f\"Resultado inesperado (cadena + entero): {resultado_incorrecto}\")"
   ]
  },
  {
   "cell_type": "markdown",
   "metadata": {},
   "source": [
    "**Ejercios**"
   ]
  },
  {
   "cell_type": "markdown",
   "metadata": {},
   "source": [
    "Crear una funcion que calcule el area de un rectangulo"
   ]
  },
  {
   "cell_type": "markdown",
   "metadata": {},
   "source": [
    "$$ A = base \\times altura $$"
   ]
  },
  {
   "cell_type": "code",
   "execution_count": 14,
   "metadata": {},
   "outputs": [],
   "source": [
    "def calcular_area_rectangulo(base, altura):\n",
    "    \"\"\"Calcula y retorna el área de un rectángulo.\"\"\"\n",
    "    return base * altura"
   ]
  },
  {
   "cell_type": "code",
   "execution_count": 15,
   "metadata": {},
   "outputs": [
    {
     "name": "stdout",
     "output_type": "stream",
     "text": [
      "Área del rectángulo (5x10): 50\n",
      "Área del rectángulo (3.5x7): 24.5\n"
     ]
    }
   ],
   "source": [
    "print(f\"Área del rectángulo (5x10): {calcular_area_rectangulo(5, 10)}\")\n",
    "print(f\"Área del rectángulo (3.5x7): {calcular_area_rectangulo(3.5, 7)}\")"
   ]
  },
  {
   "cell_type": "markdown",
   "metadata": {},
   "source": [
    "Crear un contador de vocales"
   ]
  },
  {
   "cell_type": "code",
   "execution_count": null,
   "metadata": {},
   "outputs": [],
   "source": [
    "def contar_vocales(cadena):\n",
    "    \"\"\"Cuenta el número de vocales en una cadena (a,e,i,o,u, mayúsculas y minúsculas).\"\"\"\n",
    "    vocales = \"aeiouAEIOU\"\n",
    "    contador = 0\n",
    "    for caracter in cadena:\n",
    "        if caracter in vocales:\n",
    "            contador += 1\n",
    "    return contador"
   ]
  },
  {
   "cell_type": "code",
   "execution_count": null,
   "metadata": {},
   "outputs": [],
   "source": [
    "print(f\"Vocales en 'Hola Mundo': {contar_vocales('Hola Mundo')}\")\n",
    "print(f\"Vocales en 'Programacion en Python': {contar_vocales('Programacion en Python')}\")"
   ]
  },
  {
   "cell_type": "markdown",
   "metadata": {},
   "source": [
    "Validar palabras palindromas"
   ]
  },
  {
   "cell_type": "code",
   "execution_count": 16,
   "metadata": {},
   "outputs": [],
   "source": [
    "def es_palindromo(palabra):\n",
    "  \"\"\"\n",
    "  Comprueba si una palabra es un palíndromo.\n",
    "\n",
    "  Args:\n",
    "    palabra: La palabra que se va a comprobar.\n",
    "\n",
    "  Returns:\n",
    "    True si la palabra es un palíndromo, False en caso contrario.\n",
    "  \"\"\"\n",
    "  # Convertir la palabra a minúsculas y eliminar espacios en blanco\n",
    "  palabra = palabra.lower().replace(\" \", \"\")\n",
    "\n",
    "  # Invertir la palabra sin usar slicing extendido\n",
    "  palabra_invertida = \"\"\n",
    "  for letra in palabra:\n",
    "    palabra_invertida = letra + palabra_invertida\n",
    "\n",
    "  # Comparar la palabra original con su versión invertida\n",
    "  return palabra == palabra_invertida"
   ]
  },
  {
   "cell_type": "code",
   "execution_count": 17,
   "metadata": {},
   "outputs": [
    {
     "name": "stdout",
     "output_type": "stream",
     "text": [
      "True\n",
      "False\n",
      "True\n"
     ]
    }
   ],
   "source": [
    "print(es_palindromo(\"reconocer\"))\n",
    "print(es_palindromo(\"casa\"))\n",
    "print(es_palindromo(\"Anita lava la tina\"))"
   ]
  },
  {
   "cell_type": "code",
   "execution_count": 18,
   "metadata": {},
   "outputs": [],
   "source": [
    "def es_palindromo(texto):\n",
    "    \"\"\"Verifica si un texto es palíndromo (ignorando espacios y mayúsculas).\"\"\"\n",
    "    texto_procesado = ''.join(c for c in texto.lower() if c.isalnum()) # Quita no alfanuméricos y pasa a minúsculas\n",
    "    return texto_procesado == texto_procesado[::-1] # Compara con la cadena invertida"
   ]
  },
  {
   "cell_type": "code",
   "execution_count": 19,
   "metadata": {},
   "outputs": [
    {
     "name": "stdout",
     "output_type": "stream",
     "text": [
      "'radar' es palíndromo: True\n",
      "'Anita lava la tina' es palíndromo: True\n",
      "'Hola Mundo' es palíndromo: False\n"
     ]
    }
   ],
   "source": [
    "print(f\"'radar' es palíndromo: {es_palindromo('radar')}\")\n",
    "print(f\"'Anita lava la tina' es palíndromo: {es_palindromo('Anita lava la tina')}\")\n",
    "print(f\"'Hola Mundo' es palíndromo: {es_palindromo('Hola Mundo')}\")"
   ]
  },
  {
   "cell_type": "markdown",
   "metadata": {},
   "source": [
    "Calculadora de propinas\n",
    "\n",
    "Crea una función llamada calcular_propina que tome dos argumentos:\n",
    "\n",
    "- total_cuenta: El costo total de la cuenta en un restaurante.\n",
    "- porcentaje_propina: El porcentaje de propina que se desea dar (por ejemplo, 15 para el 15%).\n",
    "\n",
    "La función debe calcular el monto de la propina y el total a pagar (incluyendo la propina), y luego retornar ambos valores en una tupla.\n",
    "\n",
    "Ejemplo\n",
    "\n",
    "```Python\n",
    "total = 50\n",
    "porcentaje = 10\n",
    "propina, total_con_propina = calcular_propina(total, porcentaje)\n",
    "\n",
    "print(f\"Propina: ${propina}\")\n",
    "print(f\"Total a pagar: ${total_con_propina}\")\n",
    "```\n",
    "\n",
    "Resultado esperado\n",
    "\n",
    "```log\n",
    "Propina: $5\n",
    "Total a pagar: $55\n",
    "```"
   ]
  },
  {
   "cell_type": "code",
   "execution_count": null,
   "metadata": {},
   "outputs": [],
   "source": [
    "# def calcular_propina(total_cuenta, porcentaje_propina):\n",
    "#     \"\"\"\n",
    "#     Calcula el monto de la propina y el total a pagar.\n",
    "\n",
    "#     Args:\n",
    "#         total_cuenta: El costo total de la cuenta.\n",
    "#         porcentaje_propina: El porcentaje de propina.\n",
    "\n",
    "#     Returns:\n",
    "#         Una tupla con el monto de la propina y el total a pagar.\n",
    "#     \"\"\"\n",
    "#     propina = round((total_cuenta * porcentaje_propina) / 100, 2)\n",
    "#     total_con_propina = round(total_cuenta + propina, 2)\n",
    "#     # return propina, total_con_propina\n",
    "#     return {\"propina\":propina, \"total\":total_con_propina}"
   ]
  },
  {
   "cell_type": "code",
   "execution_count": null,
   "metadata": {},
   "outputs": [],
   "source": [
    "# calcular_propina(50, 10)"
   ]
  }
 ],
 "metadata": {
  "kernelspec": {
   "display_name": ".venv",
   "language": "python",
   "name": "python3"
  },
  "language_info": {
   "codemirror_mode": {
    "name": "ipython",
    "version": 3
   },
   "file_extension": ".py",
   "mimetype": "text/x-python",
   "name": "python",
   "nbconvert_exporter": "python",
   "pygments_lexer": "ipython3",
   "version": "3.12.3"
  }
 },
 "nbformat": 4,
 "nbformat_minor": 2
}
