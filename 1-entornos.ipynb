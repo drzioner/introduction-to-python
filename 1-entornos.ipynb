{
 "cells": [
  {
   "cell_type": "markdown",
   "metadata": {},
   "source": [
    "**Entornos Virtuales en Python**\n",
    "\n",
    "\n",
    "_Los entornos virtuales son una herramienta esencial para cualquier desarrollador Python. Permiten aislar las dependencias de un proyecto, evitando conflictos entre diferentes proyectos y asegurando la reproducibilidad del entorno._\n",
    "\n",
    "1. Crear un entorno virtual:\n",
    "Abre la terminal y navega hasta la carpeta de tu proyecto usando cd.\n",
    "Ejecuta el comando python -m venv .venv para crear un entorno virtual llamado \".venv\". Esto creará una nueva carpeta con el mismo nombre que contendrá una instalación de Python independiente y un directorio para instalar paquetes1.\n",
    "\n",
    "2. Activar el entorno virtual:\n",
    "- Windows\n",
    "\n",
    "    `<nombre_del_entorno>\\Scripts\\activate`\n",
    "\n",
    "    Reemplaza `<nombre_del_entorno>` con el nombre de tu entorno virtual. Por ejemplo, si tu entorno se llama `myenv`, el comando sería: `myenv\\Scripts\\activate`\n",
    "\n",
    "- macOS y Linux\n",
    "\n",
    "    `source <nombre_del_entorno>/bin/activate`\n",
    "    \n",
    "    Reemplaza `<nombre_del_entorno>` con el nombre de tu entorno virtual. Por ejemplo, si tu entorno se llama `myenv`, el comando sería: `source myenv/bin/activate`\n",
    "\n",
    "\n",
    "3. Desactivar el entorno virtual:\n",
    "Ejecutar `deactivate` dentor del entorno virutal.\n",
    "\n",
    "4. Instalar paquetes:\n",
    "Con el entorno virtual activado, usa `pip install pandas` para instalar la librería `pandas3`.\n",
    "\n",
    "> Los paquetes instalados dentro del entorno virtual no afectarán a la instalación global de Python ni a otros proyectos.\n"
   ]
  },
  {
   "cell_type": "code",
   "execution_count": null,
   "metadata": {},
   "outputs": [],
   "source": [
    "!pip install pandas"
   ]
  },
  {
   "cell_type": "markdown",
   "metadata": {},
   "source": [
    "**Creacion de un entorno virtual**"
   ]
  },
  {
   "cell_type": "code",
   "execution_count": 1,
   "metadata": {},
   "outputs": [],
   "source": [
    "!python -m venv .myvenv"
   ]
  },
  {
   "cell_type": "code",
   "execution_count": 2,
   "metadata": {},
   "outputs": [],
   "source": [
    "!source .myvenv/bin/activate"
   ]
  },
  {
   "cell_type": "code",
   "execution_count": 1,
   "metadata": {},
   "outputs": [
    {
     "name": "stdout",
     "output_type": "stream",
     "text": [
      "Collecting pandas\n",
      "  Using cached pandas-2.2.3-cp312-cp312-macosx_11_0_arm64.whl.metadata (89 kB)\n",
      "Collecting numpy>=1.26.0 (from pandas)\n",
      "  Using cached numpy-2.2.2-cp312-cp312-macosx_14_0_arm64.whl.metadata (62 kB)\n",
      "Requirement already satisfied: python-dateutil>=2.8.2 in ./.myvenv/lib/python3.12/site-packages (from pandas) (2.9.0.post0)\n",
      "Collecting pytz>=2020.1 (from pandas)\n",
      "  Using cached pytz-2025.1-py2.py3-none-any.whl.metadata (22 kB)\n",
      "Collecting tzdata>=2022.7 (from pandas)\n",
      "  Using cached tzdata-2025.1-py2.py3-none-any.whl.metadata (1.4 kB)\n",
      "Requirement already satisfied: six>=1.5 in ./.myvenv/lib/python3.12/site-packages (from python-dateutil>=2.8.2->pandas) (1.17.0)\n",
      "Using cached pandas-2.2.3-cp312-cp312-macosx_11_0_arm64.whl (11.4 MB)\n",
      "Using cached numpy-2.2.2-cp312-cp312-macosx_14_0_arm64.whl (5.1 MB)\n",
      "Using cached pytz-2025.1-py2.py3-none-any.whl (507 kB)\n",
      "Using cached tzdata-2025.1-py2.py3-none-any.whl (346 kB)\n",
      "Installing collected packages: pytz, tzdata, numpy, pandas\n",
      "Successfully installed numpy-2.2.2 pandas-2.2.3 pytz-2025.1 tzdata-2025.1\n",
      "\n",
      "\u001b[1m[\u001b[0m\u001b[34;49mnotice\u001b[0m\u001b[1;39;49m]\u001b[0m\u001b[39;49m A new release of pip is available: \u001b[0m\u001b[31;49m24.0\u001b[0m\u001b[39;49m -> \u001b[0m\u001b[32;49m25.0\u001b[0m\n",
      "\u001b[1m[\u001b[0m\u001b[34;49mnotice\u001b[0m\u001b[1;39;49m]\u001b[0m\u001b[39;49m To update, run: \u001b[0m\u001b[32;49mpip install --upgrade pip\u001b[0m\n"
     ]
    }
   ],
   "source": [
    "!pip install pandas"
   ]
  }
 ],
 "metadata": {
  "kernelspec": {
   "display_name": ".venv",
   "language": "python",
   "name": "python3"
  },
  "language_info": {
   "codemirror_mode": {
    "name": "ipython",
    "version": 3
   },
   "file_extension": ".py",
   "mimetype": "text/x-python",
   "name": "python",
   "nbconvert_exporter": "python",
   "pygments_lexer": "ipython3",
   "version": "3.12.3"
  }
 },
 "nbformat": 4,
 "nbformat_minor": 2
}
