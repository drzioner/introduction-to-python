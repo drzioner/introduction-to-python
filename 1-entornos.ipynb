{
 "cells": [
  {
   "cell_type": "markdown",
   "metadata": {},
   "source": [
    "**Entornos Virtuales en Python**\n",
    "\n",
    "\n",
    "_Los entornos virtuales son una herramienta esencial para cualquier desarrollador Python. Permiten aislar las dependencias de un proyecto, evitando conflictos entre diferentes proyectos y asegurando la reproducibilidad del entorno._\n",
    "\n",
    "1. Crear un entorno virtual:\n",
    "Abre la terminal y navega hasta la carpeta de tu proyecto usando cd.\n",
    "Ejecuta el comando python -m venv .venv para crear un entorno virtual llamado \".venv\". Esto creará una nueva carpeta con el mismo nombre que contendrá una instalación de Python independiente y un directorio para instalar paquetes1.\n",
    "\n",
    "2. Activar el entorno virtual:\n",
    "- Windows\n",
    "\n",
    "    `<nombre_del_entorno>\\Scripts\\activate`\n",
    "\n",
    "    Reemplaza `<nombre_del_entorno>` con el nombre de tu entorno virtual. Por ejemplo, si tu entorno se llama `myenv`, el comando sería: `myenv\\Scripts\\activate`\n",
    "\n",
    "- macOS y Linux\n",
    "\n",
    "    `source <nombre_del_entorno>/bin/activate`\n",
    "    \n",
    "    Reemplaza `<nombre_del_entorno>` con el nombre de tu entorno virtual. Por ejemplo, si tu entorno se llama `myenv`, el comando sería: `source myenv/bin/activate`\n",
    "\n",
    "\n",
    "3. Desactivar el entorno virtual:\n",
    "Ejecutar `deactivate` dentor del entorno virutal.\n",
    "\n",
    "4. Instalar paquetes:\n",
    "Con el entorno virtual activado, usa `pip install pandas` para instalar la librería `pandas3`.\n",
    "\n",
    "> Los paquetes instalados dentro del entorno virtual no afectarán a la instalación global de Python ni a otros proyectos.\n"
   ]
  },
  {
   "cell_type": "code",
   "execution_count": null,
   "metadata": {},
   "outputs": [],
   "source": [
    "!pip install pandas"
   ]
  },
  {
   "cell_type": "markdown",
   "metadata": {},
   "source": [
    "**Creacion de un entorno virtual**"
   ]
  },
  {
   "cell_type": "code",
   "execution_count": 2,
   "metadata": {},
   "outputs": [],
   "source": [
    "!python -m venv .myvenv"
   ]
  },
  {
   "cell_type": "code",
   "execution_count": 4,
   "metadata": {},
   "outputs": [],
   "source": [
    "!source .myvenv/bin/activate"
   ]
  },
  {
   "cell_type": "code",
   "execution_count": null,
   "metadata": {},
   "outputs": [],
   "source": [
    "!pip install pandas"
   ]
  }
 ],
 "metadata": {
  "kernelspec": {
   "display_name": ".venv",
   "language": "python",
   "name": "python3"
  },
  "language_info": {
   "codemirror_mode": {
    "name": "ipython",
    "version": 3
   },
   "file_extension": ".py",
   "mimetype": "text/x-python",
   "name": "python",
   "nbconvert_exporter": "python",
   "pygments_lexer": "ipython3",
   "version": "3.12.3"
  }
 },
 "nbformat": 4,
 "nbformat_minor": 2
}
