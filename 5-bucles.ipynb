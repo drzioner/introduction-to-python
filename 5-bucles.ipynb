{
 "cells": [
  {
   "cell_type": "markdown",
   "metadata": {},
   "source": [
    "**¿Qué son los bucles?**\n",
    "\n",
    "Los bucles son estructuras de control que permiten repetir un bloque de código varias veces. Python tiene dos tipos principales de bucles: `for` y `while`.\n",
    "\n",
    "**Bucle `for`**\n",
    "\n",
    "El bucle `for` se utiliza para iterar sobre una secuencia (como una lista, tupla, cadena de texto, etc.) o cualquier otro objeto iterable.\n",
    "\n",
    "**Sintaxis:**\n",
    "\n",
    "```python\n",
    "for elemento in secuencia:\n",
    "  # Código a ejecutar en cada iteración\n",
    "```\n",
    "\n",
    "**Ejemplo:**\n",
    "\n",
    "```python\n",
    "frutas = [\"manzana\", \"banana\", \"cereza\"]\n",
    "\n",
    "for fruta in frutas:\n",
    "  print(fruta)\n",
    "```\n",
    "\n",
    "**Bucle `while`**\n",
    "\n",
    "El bucle `while` se utiliza para repetir un bloque de código mientras se cumpla una condición.\n",
    "\n",
    "**Sintaxis:**\n",
    "\n",
    "```python\n",
    "while condicion:\n",
    "  # Código a ejecutar mientras la condición sea verdadera\n",
    "```\n",
    "\n",
    "**Ejemplo:**\n",
    "\n",
    "```python\n",
    "contador = 0\n",
    "\n",
    "while contador < 5:\n",
    "  print(contador)\n",
    "  contador += 1\n",
    "```\n",
    "\n",
    "**Recomendaciones**\n",
    "\n",
    "* Experimenta con diferentes tipos de datos y condiciones en tus bucles.\n",
    "* Utiliza `break` para salir de un bucle antes de que se complete.\n",
    "* Utiliza `continue` para saltar a la siguiente iteración del bucle.\n",
    "* Anida bucles para realizar tareas más complejas.\n",
    "* No es buena practica anidar muchos bucles o condicionales."
   ]
  },
  {
   "cell_type": "markdown",
   "metadata": {},
   "source": [
    "**Ejercicios**"
   ]
  },
  {
   "cell_type": "markdown",
   "metadata": {},
   "source": [
    "Calcular la suma de los números del 1 al 10"
   ]
  },
  {
   "cell_type": "code",
   "execution_count": null,
   "metadata": {},
   "outputs": [],
   "source": [
    "suma = 0\n",
    "\n",
    "for i in range(1, 11):\n",
    "  suma += i\n",
    "\n",
    "print(\"La suma es:\", suma)"
   ]
  },
  {
   "cell_type": "markdown",
   "metadata": {},
   "source": [
    "Imprimir los números pares del 1 al 20"
   ]
  },
  {
   "cell_type": "code",
   "execution_count": null,
   "metadata": {},
   "outputs": [],
   "source": [
    "numero = 2\n",
    "\n",
    "while numero <= 20:\n",
    "  print(numero)\n",
    "  numero += 2"
   ]
  },
  {
   "cell_type": "markdown",
   "metadata": {},
   "source": [
    "Iterar sobre una lista de diccionarios"
   ]
  },
  {
   "cell_type": "code",
   "execution_count": null,
   "metadata": {},
   "outputs": [],
   "source": [
    "personas = [\n",
    "  {\"nombre\": \"Juan\", \"edad\": 30},\n",
    "  {\"nombre\": \"Ana\", \"edad\": 25},\n",
    "  {\"nombre\": \"Pedro\", \"edad\": 35}\n",
    "]\n",
    "\n",
    "for persona in personas:\n",
    "  print(\"Nombre:\", persona[\"nombre\"], \"Edad:\", persona[\"edad\"])"
   ]
  },
  {
   "cell_type": "markdown",
   "metadata": {},
   "source": [
    "Buscar un elemento en una lista"
   ]
  },
  {
   "cell_type": "code",
   "execution_count": null,
   "metadata": {},
   "outputs": [],
   "source": [
    "nombres = [\"Juan\", \"Ana\", \"Pedro\", \"María\"]\n",
    "nombre_buscado = \"Pedro\"\n",
    "\n",
    "for nombre in nombres:\n",
    "  if nombre == nombre_buscado:\n",
    "    print(\"Se encontró a\", nombre_buscado)\n",
    "    break  # Salir del bucle una vez encontrado el elemento"
   ]
  }
 ],
 "metadata": {
  "kernelspec": {
   "display_name": ".venv",
   "language": "python",
   "name": "python3"
  },
  "language_info": {
   "codemirror_mode": {
    "name": "ipython",
    "version": 3
   },
   "file_extension": ".py",
   "mimetype": "text/x-python",
   "name": "python",
   "nbconvert_exporter": "python",
   "pygments_lexer": "ipython3",
   "version": "3.12.3"
  }
 },
 "nbformat": 4,
 "nbformat_minor": 2
}
