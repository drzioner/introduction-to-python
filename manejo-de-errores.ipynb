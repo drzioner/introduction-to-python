{
 "cells": [
  {
   "cell_type": "markdown",
   "metadata": {},
   "source": [
    "**¿Qué es el manejo de errores?**\n",
    "\n",
    "El manejo de errores es la capacidad de un programa para responder a situaciones inesperadas o excepcionales que pueden ocurrir durante su ejecución. Estas situaciones, conocidas como excepciones, pueden ser causadas por errores de programación, entradas de datos incorrectas, problemas de hardware, etc.\n",
    "\n",
    "**¿Por qué es importante el manejo de errores?**\n",
    "\n",
    "El manejo de errores es importante porque permite que un programa:\n",
    "\n",
    "* **Evite fallos:** En lugar de detenerse abruptamente cuando ocurre un error, el programa puede continuar ejecutándose o tomar medidas para corregir el error.\n",
    "* **Sea más robusto:** Un programa que maneja errores es más resistente a entradas de datos incorrectas o situaciones inesperadas.\n",
    "* **Proporcione información útil:** El programa puede informar al usuario sobre el error y, posiblemente, cómo solucionarlo.\n",
    "\n",
    "**Manejo de errores en Python**"
   ]
  },
  {
   "cell_type": "markdown",
   "metadata": {},
   "source": [
    "**`try-except`**\n",
    "\n",
    "**Sintaxis:**\n",
    "\n",
    "```python\n",
    "try:\n",
    "  # Código que puede generar un error\n",
    "except TipoDeError:\n",
    "  # Código a ejecutar si ocurre el error especificado\n",
    "```\n",
    "\n",
    "**Ejemplo:**\n",
    "\n",
    "```python\n",
    "try:\n",
    "  resultado = 10 / 0  # Esto generará un error ZeroDivisionError\n",
    "except ZeroDivisionError:\n",
    "  print(\"No se puede dividir por cero\")\n",
    "```\n",
    "\n",
    "**Tipos de errores**\n",
    "\n",
    "Python tiene muchos tipos de errores predefinidos, como `ZeroDivisionError`, `TypeError`, `ValueError`, `IOError`, etc. Puedes encontrar una lista completa de los tipos de errores en la documentación de Python.\n",
    "\n",
    "**Manejo de múltiples errores**\n",
    "\n",
    "Puedes utilizar múltiples bloques `except` para manejar diferentes tipos de errores:\n",
    "\n",
    "```python\n",
    "try:\n",
    "  # Código que puede generar diferentes errores\n",
    "except ZeroDivisionError:\n",
    "  print(\"No se puede dividir por cero\")\n",
    "except TypeError:\n",
    "  print(\"Tipos de datos incompatibles\")\n",
    "except Exception as e:  # Captura cualquier otro error\n",
    "  print(\"Ocurrió un error:\", e)\n",
    "```\n",
    "\n",
    "**Bloque `else`**\n",
    "\n",
    "Puedes agregar un bloque `else` después de los bloques `except`. El código dentro del bloque `else` se ejecutará solo si no ocurre ningún error en el bloque `try`.\n",
    "\n",
    "```python\n",
    "try:\n",
    "  resultado = 10 / 2\n",
    "except ZeroDivisionError:\n",
    "  print(\"No se puede dividir por cero\")\n",
    "else:\n",
    "  print(\"El resultado es:\", resultado)\n",
    "```\n",
    "\n",
    "**Bloque `finally`**\n",
    "\n",
    "Puedes agregar un bloque `finally` después de los bloques `except` y `else`. El código dentro del bloque `finally` se ejecutará siempre, independientemente de si ocurre un error o no. Esto es útil para realizar tareas de limpieza, como cerrar archivos o liberar recursos.\n",
    "\n",
    "```python\n",
    "try:\n",
    "  archivo = open(\"archivo.txt\", \"r\")\n",
    "  # Código para leer el archivo\n",
    "finally:\n",
    "  archivo.close()  # Se asegura de cerrar el archivo\n",
    "```\n",
    "\n",
    "**Recomendaciones**\n",
    "\n",
    "* Utiliza bloques `try-except` para manejar posibles errores en tu código.\n",
    "* Especifica los tipos de errores que deseas capturar en los bloques `except`.\n",
    "* Utiliza el bloque `finally` para realizar tareas de limpieza."
   ]
  },
  {
   "cell_type": "markdown",
   "metadata": {},
   "source": [
    "> Python ofrece la instrucción `raise` para generar excepciones manualmente. Esto es útil cuando deseas indicar que ha ocurrido un error específico en tu programa o cuando necesitas propagar una excepción capturada a un nivel superior.\n",
    "\n",
    "**`raise`**\n",
    "\n",
    "La sintaxis de `raise` es la siguiente:\n",
    "\n",
    "```python\n",
    "raise TipoDeError(\"Mensaje de error\")\n",
    "```\n",
    "\n",
    "Puedes especificar el tipo de error que deseas generar y un mensaje opcional para proporcionar más información sobre el error.\n",
    "\n",
    "**Ejemplo:**\n",
    "\n",
    "```python\n",
    "def dividir(x, y):\n",
    "  if y == 0:\n",
    "    raise ZeroDivisionError(\"No se puede dividir por cero\")\n",
    "  return x / y\n",
    "\n",
    "try:\n",
    "  resultado = dividir(10, 0)\n",
    "except ZeroDivisionError as e:\n",
    "  print(\"Error:\", e)\n",
    "```\n",
    "\n",
    "**Recomendaciones**\n",
    "\n",
    "* Utiliza `raise` para generar excepciones personalizadas que sean relevantes para tu programa.\n",
    "* Proporciona mensajes de error claros y descriptivos para facilitar la depuración.\n",
    "* Considera la posibilidad de propagar excepciones capturadas a niveles superiores para un manejo más centralizado."
   ]
  },
  {
   "cell_type": "markdown",
   "metadata": {},
   "source": [
    "**Propagar excepciones**\n",
    "\n",
    "Puedes capturar una excepción en un bloque `try-except` y luego volver a generarla con `raise` para que sea manejada por un bloque superior. Esto es útil cuando necesitas realizar alguna acción específica antes de que la excepción sea manejada por otro bloque.\n",
    "\n",
    "**Ejemplo:**\n",
    "\n",
    "```python\n",
    "try:\n",
    "  # Código que puede generar una excepción\n",
    "  raise ValueError(\"Error en el procesamiento de datos\")\n",
    "except ValueError as e:\n",
    "  print(\"Se capturó la excepción:\", e)\n",
    "  # Realizar alguna acción específica\n",
    "  raise  # Volver a generar la excepción\n",
    "```"
   ]
  },
  {
   "cell_type": "markdown",
   "metadata": {},
   "source": [
    "**Ejercicios**"
   ]
  },
  {
   "cell_type": "markdown",
   "metadata": {},
   "source": [
    "Convertir una cadena a entero"
   ]
  },
  {
   "cell_type": "code",
   "execution_count": null,
   "metadata": {},
   "outputs": [],
   "source": [
    "# cadena = \"123\"\n",
    "# numero = int(cadena)\n",
    "# print(\"El número es:\", numero)\n",
    "\n",
    "# try:\n",
    "#   numero = int(cadena)\n",
    "#   print(\"El número es:\", numero)\n",
    "# except ValueError:\n",
    "#   print(\"No se puede convertir la cadena a entero\")\n"
   ]
  },
  {
   "cell_type": "markdown",
   "metadata": {},
   "source": [
    "Leer un archivo"
   ]
  },
  {
   "cell_type": "code",
   "execution_count": null,
   "metadata": {},
   "outputs": [],
   "source": [
    "# nombre_archivo = \"mi_archivo.txt\"\n",
    "# archivo = None\n",
    "\n",
    "# try:\n",
    "#   archivo = open(nombre_archivo, \"r\")\n",
    "#   contenido = archivo.read()\n",
    "#   print(contenido)\n",
    "# except FileNotFoundError:\n",
    "#   print(\"No se encontró el archivo\")\n",
    "# finally:\n",
    "#   if archivo:\n",
    "#     archivo.close()"
   ]
  }
 ],
 "metadata": {
  "kernelspec": {
   "display_name": ".venv",
   "language": "python",
   "name": "python3"
  },
  "language_info": {
   "codemirror_mode": {
    "name": "ipython",
    "version": 3
   },
   "file_extension": ".py",
   "mimetype": "text/x-python",
   "name": "python",
   "nbconvert_exporter": "python",
   "pygments_lexer": "ipython3",
   "version": "3.12.3"
  }
 },
 "nbformat": 4,
 "nbformat_minor": 2
}
