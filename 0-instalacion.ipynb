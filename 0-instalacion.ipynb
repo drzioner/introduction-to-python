{
 "cells": [
  {
   "cell_type": "markdown",
   "metadata": {},
   "source": [
    "**Instalación de Python**\n",
    "\n",
    "1. Descargar Python: Dirígete al sitio web oficial de Python (python.org) y descarga la última versión del lenguaje. Asegúrate de seleccionar la versión adecuada para tu sistema operativo (Windows, macOS o Linux).\n",
    "\n",
    "2. Instalación: Una vez descargado el archivo de instalación, ejecútalo. Durante el proceso de instalación, asegúrate de marcar la opción **Add Python to PATH**. Esto facilitará la ejecución de Python desde la línea de comandos. \n",
    "\n",
    "3. Verificación: Para comprobar que Python se ha instalado correctamente, abre la terminal o línea de comandos (cmd en Windows) y escribe el siguiente comando:\n",
    "\n",
    "```bash\n",
    "python --version\n",
    "```\n",
    "\n",
    "> Si la instalación fue exitosa, la terminal mostrará la versión de Python que has instalado."
   ]
  },
  {
   "cell_type": "code",
   "execution_count": null,
   "metadata": {},
   "outputs": [],
   "source": [
    "!python --version"
   ]
  },
  {
   "cell_type": "markdown",
   "metadata": {},
   "source": [
    "**Entorno de Desarrollo Integrado (IDE): VS Code**\n",
    "\n",
    "1. Descarga e instalación: Descarga VS Code desde su sitio web oficial (code.visualstudio.com) e instálalo en tu sistema.\n",
    "\n",
    "2. Interfaz: Al abrir VS Code, verás la interfaz principal, que incluye un explorador de archivos para navegar por tus proyectos, un editor de código donde escribirás tu código y una terminal integrada para ejecutar comandos.\n",
    "\n",
    "3. Creación de un archivo Python: Para empezar a programar en Python, crea un nuevo archivo en VS Code y guárdalo con la extensión .py. Por ejemplo, puedes nombrarlo `mi_programa.py`.\n",
    "Escribe el siguiente código en tu archivo `mi_programa.py`: `print(\"Hola, mundo!\")`.\n",
    "\n",
    "> Puedes ejecutar este código presionando el botón `Run` en la parte superior derecha de la ventana o utilizando la terminal integrada.\n",
    "> Para ejecutar desde la terminal, escribe python `mi_programa.py` y presiona Enter.\n",
    "\n",
    "4. Extensiones: Puedes instalar extensiones en el IDE para que tenga mas capacidades o funcionilidades, como por ejemplo ejecutar codigo de Python desde el IDE."
   ]
  },
  {
   "cell_type": "code",
   "execution_count": null,
   "metadata": {},
   "outputs": [],
   "source": [
    "print(\"Hola, mundo!\")"
   ]
  },
  {
   "cell_type": "markdown",
   "metadata": {},
   "source": [
    "**Jupyter Notebook: Un Entorno Interactivo**\n",
    "\n",
    "1. Instalación: Si has marcado la opción **Add Python to PATH** durante la instalación de Python, pip, el instalador de paquetes de Python, estará disponible en tu sistema. Para instalar Jupyter Notebook, abre la terminal y ejecuta el siguiente comando:\n",
    "\n",
    "```Bash\n",
    "pip install jupyter\n",
    "```\n",
    "\n",
    "2. Ejecución: Para iniciar Jupyter Notebook, escribe el siguiente comando en la terminal:\n",
    "\n",
    "```Bash\n",
    "jupyter notebook\n",
    "```\n",
    "\n",
    "> Esto abrirá Jupyter Notebook en tu navegador web predeterminado.\n",
    "\n",
    "3. Creación de una Notebook: En la interfaz web de Jupyter Notebook, haz clic en **New** y selecciona **Python 3** para crear una nueva notebook.\n",
    "En una celda de la notebook, escribe el siguiente código: `print(\"Hola, mundo!\")`"
   ]
  },
  {
   "cell_type": "code",
   "execution_count": null,
   "metadata": {},
   "outputs": [],
   "source": [
    "!pip install jupyter"
   ]
  },
  {
   "cell_type": "code",
   "execution_count": null,
   "metadata": {},
   "outputs": [],
   "source": [
    "!jupyter notebook"
   ]
  }
 ],
 "metadata": {
  "kernelspec": {
   "display_name": ".venv",
   "language": "python",
   "name": "python3"
  },
  "language_info": {
   "codemirror_mode": {
    "name": "ipython",
    "version": 3
   },
   "file_extension": ".py",
   "mimetype": "text/x-python",
   "name": "python",
   "nbconvert_exporter": "python",
   "pygments_lexer": "ipython3",
   "version": "3.12.3"
  }
 },
 "nbformat": 4,
 "nbformat_minor": 2
}
