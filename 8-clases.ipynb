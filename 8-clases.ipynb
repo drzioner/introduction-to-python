{
 "cells": [
  {
   "cell_type": "markdown",
   "metadata": {},
   "source": [
    "**¿Qué son las clases en Python?**\n",
    "\n",
    "Una clase es como un plano o plantilla para crear objetos. \n",
    "\n",
    "Imagina que una clase es como un molde para hacer galletas. El molde define la forma y las características de cada galleta (objeto), pero cada galleta individual es única y puede tener sus propios detalles (atributos).\n",
    "\n",
    "Una clase define:\n",
    "\n",
    "* **Atributos:** Las características que describen a los objetos (variables).\n",
    "* **Métodos:** Las acciones que los objetos pueden realizar (funciones dentro de la clase).\n",
    "\n",
    "**¿Por qué son importantes las clases?**\n",
    "\n",
    "Las clases son fundamentales en la programación orientada a objetos (POO) y ofrecen muchas ventajas:\n",
    "\n",
    "* **Organización:** Permiten agrupar datos (atributos) y funciones (métodos) relacionados en una sola unidad lógica, lo que hace que el código sea más organizado y fácil de entender.\n",
    "* **Reusabilidad:** Una vez que defines una clase, puedes crear múltiples objetos (instancias) de esa clase, cada uno con sus propios valores para los atributos. Esto evita tener que escribir el mismo código repetidamente.\n",
    "* **Abstracción:** Las clases permiten ocultar los detalles de implementación de un objeto y solo mostrar una interfaz (métodos) para interactuar con él. Esto simplifica el uso de los objetos y reduce la complejidad del código.\n",
    "* **Modelado del mundo real:** Las clases facilitan la representación de entidades del mundo real (como personas, coches, animales, etc.) en el código, lo que hace que los programas sean más intuitivos y fáciles de relacionar con problemas reales.\n"
   ]
  },
  {
   "cell_type": "code",
   "execution_count": null,
   "metadata": {},
   "outputs": [],
   "source": [
    "class Coche:\n",
    "  def __init__(self, marca, modelo, color):\n",
    "    self.marca = marca\n",
    "    self.modelo = modelo\n",
    "    self.color = color\n",
    "\n",
    "  def acelerar(self):\n",
    "    print(\"El coche está acelerando\")\n",
    "\n",
    "  def frenar(self):\n",
    "    print(\"El coche está frenando\")"
   ]
  },
  {
   "cell_type": "code",
   "execution_count": null,
   "metadata": {},
   "outputs": [],
   "source": [
    "# Crear objetos (instancias) de la clase Coche\n",
    "mi_coche = Coche(\"Toyota\", \"Corolla\", \"Azul\")\n",
    "otro_coche = Coche(\"Ford\", \"Mustang\", \"Rojo\")"
   ]
  },
  {
   "cell_type": "code",
   "execution_count": null,
   "metadata": {},
   "outputs": [],
   "source": [
    "# Acceder a los atributos\n",
    "print(mi_coche.marca)  # Imprime \"Toyota\"\n",
    "print(otro_coche.color)  # Imprime \"Rojo\""
   ]
  },
  {
   "cell_type": "code",
   "execution_count": null,
   "metadata": {},
   "outputs": [],
   "source": [
    "# Llamar a los métodos\n",
    "mi_coche.acelerar()  # Imprime \"El coche está acelerando\"\n",
    "otro_coche.frenar()  # Imprime \"El coche está frenando\""
   ]
  },
  {
   "cell_type": "markdown",
   "metadata": {},
   "source": [
    "Los métodos cuyos nombres comienzan y terminan con dos guiones bajos (`__`), como `__init__`, son métodos especiales conocidos como **métodos mágicos** o **métodos dunder** (por \"double underscore\"). Estos métodos tienen un significado especial en Python y se utilizan para definir el comportamiento de los objetos de una clase en situaciones específicas.\n",
    "\n",
    "Algunos de los métodos mágicos más comunes son:\n",
    "\n",
    "*   **`__init__(self, ...)`:** El constructor de la clase. Se llama automáticamente cuando se crea un nuevo objeto de la clase. Se utiliza para inicializar los atributos del objeto.\n",
    "*   **`__str__(self)`:** Define la representación en cadena de un objeto. Se llama cuando se utiliza la función `str()` en el objeto o cuando se imprime el objeto.\n",
    "*   **`__repr__(self)`:** Define la representación \"oficial\" de un objeto. Se llama cuando se utiliza la función `repr()` en el objeto o cuando se muestra el objeto en el intérprete de Python.\n",
    "*   **`__len__(self)`:** Define la longitud de un objeto. Se llama cuando se utiliza la función `len()` en el objeto.\n",
    "*   **`__getitem__(self, key)`:** Permite acceder a los elementos de un objeto mediante índices o claves. Se llama cuando se utiliza `objeto[key]`.\n",
    "*   **`__setitem__(self, key, value)`:** Permite asignar valores a los elementos de un objeto mediante índices o claves. Se llama cuando se utiliza `objeto[key] = value`.\n",
    "*   **`__delitem__(self, key)`:** Permite eliminar elementos de un objeto mediante índices o claves. Se llama cuando se utiliza `del objeto[key]`.\n",
    "*   **`__add__(self, other)`:** Define la operación de suma entre objetos. Se llama cuando se utiliza el operador `+`.\n",
    "*   **`__sub__(self, other)`:** Define la operación de resta entre objetos. Se llama cuando se utiliza el operador `-`.\n",
    "*   **`__mul__(self, other)`:** Define la operación de multiplicación entre objetos. Se llama cuando se utiliza el operador `*`.\n",
    "*   **`__div__(self, other)`:** Define la operación de división entre objetos. Se llama cuando se utiliza el operador `/`.\n",
    "*   **`__eq__(self, other)`:** Define la operación de igualdad entre objetos. Se llama cuando se utiliza el operador `==`.\n",
    "*   **`__ne__(self, other)`:** Define la operación de desigualdad entre objetos. Se llama cuando se utiliza el operador `!=`.\n",
    "*   **`__lt__(self, other)`:** Define la operación \"menor que\" entre objetos. Se llama cuando se utiliza el operador `<`.\n",
    "*   **`__le__(self, other)`:** Define la operación \"menor o igual que\" entre objetos. Se llama cuando se utiliza el operador `<=`.\n",
    "*   **`__gt__(self, other)`:** Define la operación \"mayor que\" entre objetos. Se llama cuando se utiliza el operador `>`.\n",
    "*   **`__ge__(self, other)`:** Define la operación \"mayor o igual que\" entre objetos. Se llama cuando se utiliza el operador `>=`.\n"
   ]
  },
  {
   "cell_type": "markdown",
   "metadata": {},
   "source": [
    "Ejercicios"
   ]
  },
  {
   "cell_type": "markdown",
   "metadata": {},
   "source": [
    "Crea una clase llamada Perro con los siguientes atributos:\n",
    "\n",
    "- `nombre (cadena)`: El nombre del perro.\n",
    "- `raza (cadena)`: La raza del perro.\n",
    "- `edad (entero)`: La edad del perro en años.\n",
    "\n",
    "La clase debe tener los siguientes métodos:\n",
    "\n",
    "- `__init__(self, nombre, raza, edad)`: El constructor de la clase que inicializa los atributos.\n",
    "- `ladrar(self)`: Imprime en la consola \"¡Guau guau!\".\n",
    "- `cumplir_anios(self)`: Incrementa en 1 la edad del perro.\n",
    "\n",
    "Ejemplo\n",
    "\n",
    "```Python\n",
    "mi_perro = Perro(\"Firulais\", \"Pastor Alemán\", 3)\n",
    "print(mi_perro.nombre)  # Imprime \"Firulais\"\n",
    "mi_perro.ladrar()  # Imprime \"¡Guau guau!\"\n",
    "mi_perro.cumplir_anios()\n",
    "print(mi_perro.edad)  # Imprime 4\n",
    "```"
   ]
  },
  {
   "cell_type": "code",
   "execution_count": null,
   "metadata": {},
   "outputs": [],
   "source": [
    "class Perro:\n",
    "  def __init__(self, nombre, raza, edad):\n",
    "    self.________nombre = nombre\n",
    "    self.raza = raza\n",
    "    self.edad = edad\n",
    "\n",
    "  def ladrar(self):\n",
    "    print(\"¡Guau guau!\")\n",
    "\n",
    "  def cumplir_anios(self):\n",
    "    self.edad += 1"
   ]
  },
  {
   "cell_type": "code",
   "execution_count": 7,
   "metadata": {},
   "outputs": [
    {
     "ename": "AttributeError",
     "evalue": "'Perro' object has no attribute '__nombre'",
     "output_type": "error",
     "traceback": [
      "\u001b[0;31m---------------------------------------------------------------------------\u001b[0m",
      "\u001b[0;31mAttributeError\u001b[0m                            Traceback (most recent call last)",
      "Cell \u001b[0;32mIn[7], line 2\u001b[0m\n\u001b[1;32m      1\u001b[0m mi_perro \u001b[38;5;241m=\u001b[39m Perro(\u001b[38;5;124m\"\u001b[39m\u001b[38;5;124mFirulais\u001b[39m\u001b[38;5;124m\"\u001b[39m, \u001b[38;5;124m\"\u001b[39m\u001b[38;5;124mPastor Alemán\u001b[39m\u001b[38;5;124m\"\u001b[39m, \u001b[38;5;241m3\u001b[39m)\n\u001b[0;32m----> 2\u001b[0m \u001b[38;5;28mprint\u001b[39m(\u001b[43mmi_perro\u001b[49m\u001b[38;5;241;43m.\u001b[39;49m\u001b[43m__nombre\u001b[49m)\n\u001b[1;32m      3\u001b[0m \u001b[38;5;28mprint\u001b[39m(mi_perro\u001b[38;5;241m.\u001b[39medad)\n\u001b[1;32m      4\u001b[0m mi_perro\u001b[38;5;241m.\u001b[39mladrar()\n",
      "\u001b[0;31mAttributeError\u001b[0m: 'Perro' object has no attribute '__nombre'"
     ]
    }
   ],
   "source": [
    "mi_perro = Perro(\"Firulais\", \"Pastor Alemán\", 3)\n",
    "print(mi_perro.__nombre)\n",
    "print(mi_perro.edad)\n",
    "mi_perro.ladrar()\n",
    "mi_perro.cumplir_anios()\n",
    "print(mi_perro.edad)"
   ]
  },
  {
   "cell_type": "markdown",
   "metadata": {},
   "source": [
    "Crea una clase llamada `CuentaBancaria` con los siguientes atributos:\n",
    "\n",
    "- `titular` (cadena): El nombre del titular de la cuenta.\n",
    "- `saldo` (flotante): El saldo actual de la cuenta.\n",
    "\n",
    "La clase debe tener los siguientes métodos:\n",
    "\n",
    "- El saldo debe tener un valor predeterminado de 0.0 si no se proporciona.\n",
    "- `depositar(self, cantidad)`: Añade la cantidad especificada al saldo.\n",
    "- `retirar(self, cantidad)`: Retira la cantidad especificada del saldo, siempre y cuando haya suficiente saldo. Si no hay suficiente saldo, imprime un mensaje de error.\n",
    "- `imprimir_saldo(self)`: Imprime en la consola el saldo actual de la cuenta.\n",
    "- Puedes agregar mas funcionalidad que desees.\n",
    "\n",
    "Ejemplo\n",
    "\n",
    "```Python\n",
    "mi_cuenta = CuentaBancaria(\"Juan Pérez\")\n",
    "mi_cuenta.depositar(100.0)\n",
    "mi_cuenta.retirar(50.0)\n",
    "mi_cuenta.consultar_saldo()  # Imprime \"Saldo actual: 50.0\"\n",
    "mi_cuenta.retirar(200.0)  # Imprime \"Error: No hay suficiente saldo\"\n",
    "```"
   ]
  },
  {
   "cell_type": "code",
   "execution_count": 8,
   "metadata": {},
   "outputs": [],
   "source": [
    "class CuentaBancaria:\n",
    "    def __init__(self, titular: str, saldo: float=0.0):\n",
    "        self._titular:str = titular\n",
    "        self._saldo:float = saldo\n",
    "\n",
    "    def depositar(self, cantidad):\n",
    "        self._saldo += cantidad\n",
    "        print(f\"Acabas de depositar: ${cantidad}\")\n",
    "        self._imprimir_mensaje(\"Saldo actual\")\n",
    "\n",
    "    def retirar(self, cantidad: float):\n",
    "        if cantidad <= 0:\n",
    "            raise ValueError(\"La cantidad a retirar debe ser mayor a 0\")\n",
    "        if self._saldo == 0:\n",
    "            raise ValueError(\"No se puede retirar dinero de una cuenta vacía\")\n",
    "        if cantidad <= self._saldo:\n",
    "            self._saldo -= cantidad\n",
    "            print(f\"Acabas de retirar: ${cantidad}\")\n",
    "            self._imprimir_mensaje(\"Saldo restante\")\n",
    "        else:\n",
    "            raise ValueError(\"No se puede retirar más dinero del que hay en la cuenta\")\n",
    "\n",
    "    def consultar_titular(self):\n",
    "        return self._titular\n",
    "    \n",
    "    def consultar_saldo(self):\n",
    "        return self._saldo\n",
    "\n",
    "    def _imprimir_mensaje(self, mensaje: str):\n",
    "        print(f\"{mensaje}: ${self._saldo}\")"
   ]
  },
  {
   "cell_type": "code",
   "execution_count": 9,
   "metadata": {},
   "outputs": [
    {
     "name": "stdout",
     "output_type": "stream",
     "text": [
      "Acabas de depositar: $500.0\n",
      "Saldo actual: $1500.0\n",
      "Acabas de retirar: $200.0\n",
      "Saldo restante: $1300.0\n",
      "Juan Pérez\n",
      "1300.0\n"
     ]
    }
   ],
   "source": [
    "cuenta = CuentaBancaria(\"Juan Pérez\", 1000.0)\n",
    "cuenta.depositar(500.0)\n",
    "cuenta.retirar(200.0)\n",
    "print(cuenta.consultar_titular())\n",
    "print(cuenta.consultar_saldo())"
   ]
  }
 ],
 "metadata": {
  "kernelspec": {
   "display_name": ".venv",
   "language": "python",
   "name": "python3"
  },
  "language_info": {
   "codemirror_mode": {
    "name": "ipython",
    "version": 3
   },
   "file_extension": ".py",
   "mimetype": "text/x-python",
   "name": "python",
   "nbconvert_exporter": "python",
   "pygments_lexer": "ipython3",
   "version": "3.12.3"
  }
 },
 "nbformat": 4,
 "nbformat_minor": 2
}
